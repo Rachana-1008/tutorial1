{
 "cells": [
  {
   "cell_type": "code",
   "execution_count": 1,
   "metadata": {},
   "outputs": [
    {
     "name": "stdout",
     "output_type": "stream",
     "text": [
      "Grade: O\n"
     ]
    }
   ],
   "source": [
    "#grade code\n",
    "\n",
    "p = 90\n",
    "if p > 75:\n",
    "    grade = \"O\"\n",
    "elif 60 < p <= 75:\n",
    "    grade = \"A\"\n",
    "elif 50 < p <= 60:\n",
    "    grade = \"B\"\n",
    "elif 35 < p <= 50:\n",
    "    grade = \"C\"\n",
    "else:\n",
    "    grade = \"Fail\"\n",
    "\n",
    "print(\"Grade:\", grade)"
   ]
  },
  {
   "cell_type": "code",
   "execution_count": 2,
   "metadata": {},
   "outputs": [
    {
     "name": "stdout",
     "output_type": "stream",
     "text": [
      "Divisible by 2, but not by 3\n"
     ]
    }
   ],
   "source": [
    "#n divisible by 2 or 3?\n",
    "\n",
    "n = 10\n",
    "if n % 2 == 0 and n % 3 == 0:\n",
    "    print(\"Divisible by both 2 and 3\")\n",
    "elif n % 2 == 0:\n",
    "    print(\"Divisible by 2, but not by 3\")\n",
    "elif n % 3 == 0:\n",
    "    print(\"Divisible by 3, but not by 2\")\n",
    "else:\n",
    "    print(\"Not divisible by either 2 or 3\")"
   ]
  }
 ],
 "metadata": {
  "kernelspec": {
   "display_name": "Python 3",
   "language": "python",
   "name": "python3"
  },
  "language_info": {
   "codemirror_mode": {
    "name": "ipython",
    "version": 3
   },
   "file_extension": ".py",
   "mimetype": "text/x-python",
   "name": "python",
   "nbconvert_exporter": "python",
   "pygments_lexer": "ipython3",
   "version": "3.11.5"
  },
  "orig_nbformat": 4
 },
 "nbformat": 4,
 "nbformat_minor": 2
}
